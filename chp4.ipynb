{
 "cells": [
  {
   "cell_type": "code",
   "execution_count": 1,
   "id": "f52c42c9",
   "metadata": {},
   "outputs": [
    {
     "name": "stdout",
     "output_type": "stream",
     "text": [
      "Hello\n",
      "Fun\n",
      "Zip\n",
      "Hello\n",
      "Fun\n"
     ]
    }
   ],
   "source": [
    "#functions\n",
    "#Stored and reused Steps\n",
    "\n",
    "def thing(): # reusable pieces of code “function”\n",
    "    print('Hello')\n",
    "    print('Fun')\n",
    "thing()\n",
    "print('Zip')\n",
    "thing()"
   ]
  },
  {
   "cell_type": "code",
   "execution_count": 2,
   "id": "a3cd4144",
   "metadata": {},
   "outputs": [
    {
     "name": "stdout",
     "output_type": "stream",
     "text": [
      "w\n",
      " \n"
     ]
    }
   ],
   "source": [
    "#function\n",
    "\n",
    "big = max('Hello world')\n",
    "print(big)\n",
    "\n",
    "tiny = min('Hello world')\n",
    "print(tiny)"
   ]
  },
  {
   "cell_type": "code",
   "execution_count": 3,
   "id": "fe491ef2",
   "metadata": {},
   "outputs": [],
   "source": [
    "#max function\n",
    "\n",
    "def max(inp):\n",
    "    blah\n",
    "    blah\n",
    "    for x in inp:\n",
    "        blah\n",
    "        blah"
   ]
  },
  {
   "cell_type": "code",
   "execution_count": 4,
   "id": "d7744b83",
   "metadata": {},
   "outputs": [
    {
     "name": "stdout",
     "output_type": "stream",
     "text": [
      "0.99\n",
      "42.0\n",
      "-2.5\n"
     ]
    }
   ],
   "source": [
    "#type conversions\n",
    "\n",
    "print(float(99) / 100)\n",
    "i = 42\n",
    "type(i)\n",
    "\n",
    "f = float(i)\n",
    "print(f)\n",
    "type(f)\n",
    "\n",
    "print(1 + 2 * float(3) / 4 - 5)"
   ]
  },
  {
   "cell_type": "code",
   "execution_count": 5,
   "id": "d2dc2873",
   "metadata": {},
   "outputs": [
    {
     "name": "stdout",
     "output_type": "stream",
     "text": [
      "124\n"
     ]
    }
   ],
   "source": [
    "#string conversions\n",
    "\n",
    "sval = '123'\n",
    "type(sval)\n",
    "\n",
    "#print(sval + 1) :(statement) int cannot be added in string\n",
    "\n",
    "ival = int(sval)\n",
    "type(ival)\n",
    "\n",
    "print(ival + 1)\n",
    "\n",
    "nsv = 'hello bob'\n",
    "#niv = int(nsv) :(statement) invalid literal fro int"
   ]
  },
  {
   "cell_type": "code",
   "execution_count": 6,
   "id": "65d654f0",
   "metadata": {},
   "outputs": [],
   "source": [
    "#building our own functions\n",
    "\n",
    "def print_lyrics():\n",
    "    print( 'I am a lumberjack, and I am okay.')\n",
    "    print('I sleep all night and I work all day.')\n"
   ]
  },
  {
   "cell_type": "code",
   "execution_count": 7,
   "id": "dbb9e270",
   "metadata": {},
   "outputs": [
    {
     "name": "stdout",
     "output_type": "stream",
     "text": [
      "Hello\n",
      "Yo\n",
      "7\n"
     ]
    }
   ],
   "source": [
    "x = 5\n",
    "print('Hello')\n",
    "def print_lyrics():\n",
    "    print(\"I'm a lumberjack, and I'm okay.\")\n",
    "    print('I sleep all night and I work all day.')\n",
    "print('Yo')\n",
    "x = x + 2\n",
    "print(x)"
   ]
  },
  {
   "cell_type": "code",
   "execution_count": 8,
   "id": "e29d67b6",
   "metadata": {},
   "outputs": [
    {
     "name": "stdout",
     "output_type": "stream",
     "text": [
      "Hello\n",
      "Yo\n",
      "I'm a lumberjack, and I'm okay.\n",
      "I sleep all night and I work all day.\n",
      "7\n"
     ]
    }
   ],
   "source": [
    "x = 5\n",
    "print('Hello')\n",
    "def print_lyrics(): \n",
    "    print(\"I'm a lumberjack, and I'm okay.\")\n",
    "    print('I sleep all night and I work all day.')\n",
    "print('Yo')\n",
    "print_lyrics()\n",
    "x = x + 2\n",
    "print(x)"
   ]
  },
  {
   "cell_type": "code",
   "execution_count": 9,
   "id": "57425bd0",
   "metadata": {},
   "outputs": [
    {
     "name": "stdout",
     "output_type": "stream",
     "text": [
      "Hello\n",
      "Hola\n",
      "Bonjour\n"
     ]
    }
   ],
   "source": [
    "#parameters\n",
    "\n",
    "def greet(lang):\n",
    "    if lang == 'es':\n",
    "        print('Hola')\n",
    "    elif lang == 'fr':\n",
    "        print('Bonjour')\n",
    "    else:\n",
    "        print('Hello')\n",
    "\n",
    "greet('en')\n",
    "    \n",
    "greet('es')\n",
    "\n",
    "greet('fr')"
   ]
  },
  {
   "cell_type": "code",
   "execution_count": 10,
   "id": "ba1013c5",
   "metadata": {},
   "outputs": [
    {
     "name": "stdout",
     "output_type": "stream",
     "text": [
      "Hello Glenn\n",
      "Hello Sally\n"
     ]
    }
   ],
   "source": [
    "#return values 1\n",
    "\n",
    "def greet():\n",
    "    return \"Hello\"\n",
    "print(greet(), \"Glenn\")\n",
    "print(greet(), \"Sally\")"
   ]
  },
  {
   "cell_type": "code",
   "execution_count": 11,
   "id": "f5e12bc3",
   "metadata": {},
   "outputs": [
    {
     "name": "stdout",
     "output_type": "stream",
     "text": [
      "Hello Glenn\n",
      "Hola Sally\n",
      "Bonjour Michael\n"
     ]
    }
   ],
   "source": [
    "#return value 2\n",
    "\n",
    "def greet(lang):\n",
    "    if lang == 'es':\n",
    "        return 'Hola'\n",
    "    elif lang == 'fr':\n",
    "        return 'Bonjour'\n",
    "    else:\n",
    "        return 'Hello'\n",
    "\n",
    "print(greet('en'),'Glenn')\n",
    "\n",
    "print(greet('es'),'Sally')\n",
    "\n",
    "print(greet('fr'),'Michael')"
   ]
  },
  {
   "cell_type": "code",
   "execution_count": 13,
   "id": "439f415b",
   "metadata": {},
   "outputs": [],
   "source": [
    "#Arguments, Parameters, and Results\n",
    "\n",
    "def max(inp):\n",
    "    blah\n",
    "    blah\n",
    "    for x in inp:\n",
    "        blah\n",
    "        blah\n",
    "    return 'w'"
   ]
  },
  {
   "cell_type": "code",
   "execution_count": 14,
   "id": "e7dcb404",
   "metadata": {},
   "outputs": [
    {
     "name": "stdout",
     "output_type": "stream",
     "text": [
      "8\n"
     ]
    }
   ],
   "source": [
    "#Multiple Parameters / Arguments\n",
    "\n",
    "def addtwo(a, b):\n",
    "    added = a + b\n",
    "    return added\n",
    "x = addtwo(3, 5)\n",
    "print(x)"
   ]
  },
  {
   "cell_type": "code",
   "execution_count": 15,
   "id": "2b248ac5",
   "metadata": {},
   "outputs": [
    {
     "name": "stdout",
     "output_type": "stream",
     "text": [
      "Enter Hours: 45\n",
      "Enter Rate: 10\n",
      "Total pay: $475.0\n"
     ]
    }
   ],
   "source": [
    "#Rewrite your pay computation with time-and-a half for overtime and create a function called computepay which takes two\n",
    "#parameters ( hours and rate). Enter Hours: 45. Enter Rate: 10\n",
    "\n",
    "# Define the computepay function\n",
    "def computepay(hours, rate):\n",
    "    if hours <= 40:\n",
    "        total_pay = hours * rate\n",
    "    else:\n",
    "        regular_hours = 40\n",
    "        overtime_hours = hours - 40\n",
    "        total_pay = (regular_hours * rate) + (overtime_hours * rate * 1.5)\n",
    "    return total_pay\n",
    "\n",
    "# Input hours worked and hourly rate\n",
    "try:\n",
    "    hours_worked = float(input(\"Enter Hours: \"))\n",
    "    hourly_rate = float(input(\"Enter Rate: \"))\n",
    "except ValueError:\n",
    "    print(\"Error, please enter numeric input\")\n",
    "else:\n",
    "    # Calculate and display total pay using the computepay function\n",
    "    total_pay = computepay(hours_worked, hourly_rate)\n",
    "    print(\"Total pay: $\" + str(total_pay))\n"
   ]
  }
 ],
 "metadata": {
  "kernelspec": {
   "display_name": "Python 3 (ipykernel)",
   "language": "python",
   "name": "python3"
  },
  "language_info": {
   "codemirror_mode": {
    "name": "ipython",
    "version": 3
   },
   "file_extension": ".py",
   "mimetype": "text/x-python",
   "name": "python",
   "nbconvert_exporter": "python",
   "pygments_lexer": "ipython3",
   "version": "3.11.4"
  }
 },
 "nbformat": 4,
 "nbformat_minor": 5
}
