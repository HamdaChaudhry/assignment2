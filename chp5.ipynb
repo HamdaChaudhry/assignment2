{
 "cells": [
  {
   "cell_type": "code",
   "execution_count": 1,
   "id": "196b5ca5",
   "metadata": {},
   "outputs": [
    {
     "name": "stdout",
     "output_type": "stream",
     "text": [
      "5\n",
      "4\n",
      "3\n",
      "2\n",
      "1\n",
      "Blastoff!\n",
      "0\n"
     ]
    }
   ],
   "source": [
    "#loops & iteration\n",
    "#repeated steps\n",
    "\n",
    "n = 5\n",
    "while n > 0 :\n",
    "    print(n)\n",
    "    n = n - 1\n",
    "print('Blastoff!')\n",
    "print(n)\n"
   ]
  },
  {
   "cell_type": "code",
   "execution_count": null,
   "id": "364693de",
   "metadata": {},
   "outputs": [],
   "source": [
    "#infinite loop\n",
    "\n",
    "n = 5\n",
    "while n > 0 :\n",
    "    print('Lather')\n",
    "    print('Rinse')\n",
    "print('Dry off!')"
   ]
  },
  {
   "cell_type": "code",
   "execution_count": null,
   "id": "09ef1e96",
   "metadata": {},
   "outputs": [],
   "source": [
    "#another infinite loop\n",
    "\n",
    "n = 0\n",
    "while n > 0 :\n",
    "    print('Lather')\n",
    "    print('Rinse')\n",
    "print('Dry off!')"
   ]
  },
  {
   "cell_type": "code",
   "execution_count": 2,
   "id": "ce3580cc",
   "metadata": {},
   "outputs": [
    {
     "name": "stdout",
     "output_type": "stream",
     "text": [
      "> hello there\n",
      "hello there\n",
      "> finish\n",
      "finish\n",
      "> done\n",
      "Done!\n"
     ]
    }
   ],
   "source": [
    "#using break statement\n",
    "\n",
    "while True:\n",
    "    line = input('> ')\n",
    "    if line == 'done' :\n",
    "        break\n",
    "    print(line)\n",
    "print('Done!')\n"
   ]
  },
  {
   "cell_type": "code",
   "execution_count": 4,
   "id": "5afedd99",
   "metadata": {},
   "outputs": [
    {
     "name": "stdout",
     "output_type": "stream",
     "text": [
      "> hello there\n",
      "hello there\n",
      "> #don't print this\n",
      "> print this!\n",
      "print this!\n",
      "> done\n",
      "Done!\n"
     ]
    }
   ],
   "source": [
    "#continue statement\n",
    "\n",
    "while True:\n",
    "    line = input('> ')\n",
    "    if line[0] == '#' :\n",
    "        continue\n",
    "    if line == 'done' :\n",
    "        break\n",
    "    print(line)\n",
    "print('Done!')"
   ]
  },
  {
   "cell_type": "code",
   "execution_count": 6,
   "id": "f70cdfd2",
   "metadata": {},
   "outputs": [
    {
     "name": "stdout",
     "output_type": "stream",
     "text": [
      "5\n",
      "4\n",
      "3\n",
      "2\n",
      "1\n",
      "Blastoff!\n"
     ]
    }
   ],
   "source": [
    "#simple definite lop\n",
    "\n",
    "for i in [5, 4, 3, 2, 1] :\n",
    "    print(i)\n",
    "print('Blastoff!')"
   ]
  },
  {
   "cell_type": "code",
   "execution_count": 7,
   "id": "3aa9bc73",
   "metadata": {},
   "outputs": [
    {
     "name": "stdout",
     "output_type": "stream",
     "text": [
      "Happy New Year: Joseph\n",
      "Happy New Year: Glenn\n",
      "Happy New Year: Sally\n",
      "Done!\n"
     ]
    }
   ],
   "source": [
    "#definite loop with strings\n",
    "\n",
    "friends = ['Joseph', 'Glenn', 'Sally']\n",
    "for friend in friends : \n",
    "    print('Happy New Year:', friend)\n",
    "print('Done!')"
   ]
  },
  {
   "cell_type": "code",
   "execution_count": 9,
   "id": "5c5ab92f",
   "metadata": {},
   "outputs": [
    {
     "name": "stdout",
     "output_type": "stream",
     "text": [
      "Before\n",
      "9\n",
      "41\n",
      "12\n",
      "3\n",
      "74\n",
      "15\n",
      "After\n"
     ]
    }
   ],
   "source": [
    "#looping through a set\n",
    "\n",
    "print('Before')\n",
    "for thing in [9, 41, 12, 3, 74, 15] :\n",
    "    print(thing)\n",
    "print('After')"
   ]
  },
  {
   "cell_type": "code",
   "execution_count": 10,
   "id": "884813aa",
   "metadata": {},
   "outputs": [
    {
     "name": "stdout",
     "output_type": "stream",
     "text": [
      "Before -1\n",
      "9 9\n",
      "41 41\n",
      "41 12\n",
      "41 3\n",
      "74 74\n",
      "74 15\n",
      "After 74\n"
     ]
    }
   ],
   "source": [
    "#finfing the largest value\n",
    "\n",
    "largest_so_far = -1\n",
    "print('Before', largest_so_far)\n",
    "for the_num in [9, 41, 12, 3, 74, 15] :\n",
    "    if the_num > largest_so_far :\n",
    "        largest_so_far = the_num\n",
    "    print(largest_so_far, the_num)\n",
    "print('After', largest_so_far)"
   ]
  },
  {
   "cell_type": "code",
   "execution_count": 11,
   "id": "a7149536",
   "metadata": {},
   "outputs": [
    {
     "name": "stdout",
     "output_type": "stream",
     "text": [
      "Before 0\n",
      "1 9\n",
      "2 41\n",
      "3 12\n",
      "4 3\n",
      "5 74\n",
      "6 15\n",
      "After 6\n"
     ]
    }
   ],
   "source": [
    "#counting in a loop\n",
    "\n",
    "zork = 0\n",
    "print('Before', zork)\n",
    "for thing in [9, 41, 12, 3, 74, 15] :\n",
    "    zork = zork + 1\n",
    "    print(zork, thing)\n",
    "print('After', zork)"
   ]
  },
  {
   "cell_type": "code",
   "execution_count": 12,
   "id": "98c067cd",
   "metadata": {},
   "outputs": [
    {
     "name": "stdout",
     "output_type": "stream",
     "text": [
      "Before 0\n",
      "9 9\n",
      "50 41\n",
      "62 12\n",
      "65 3\n",
      "139 74\n",
      "154 15\n",
      "After 154\n"
     ]
    }
   ],
   "source": [
    "#summing in a loop\n",
    "\n",
    "zork = 0\n",
    "print('Before', zork)\n",
    "for thing in [9, 41, 12, 3, 74, 15] :\n",
    "    zork = zork + thing\n",
    "    print(zork, thing)\n",
    "print('After', zork)"
   ]
  },
  {
   "cell_type": "code",
   "execution_count": 13,
   "id": "ae0c04b9",
   "metadata": {},
   "outputs": [
    {
     "name": "stdout",
     "output_type": "stream",
     "text": [
      "Before 0 0\n",
      "1 9 9\n",
      "2 50 41\n",
      "3 62 12\n",
      "4 65 3\n",
      "5 139 74\n",
      "6 154 15\n",
      "After 6 154 25.666666666666668\n"
     ]
    }
   ],
   "source": [
    "#finding the avrage in loop\n",
    "\n",
    "count = 0\n",
    "sum = 0\n",
    "print('Before', count, sum)\n",
    "for value in [9, 41, 12, 3, 74, 15] :\n",
    "    count = count + 1\n",
    "    sum = sum + value\n",
    "    print(count, sum, value)\n",
    "print('After', count, sum, sum / count)"
   ]
  },
  {
   "cell_type": "code",
   "execution_count": 14,
   "id": "df534490",
   "metadata": {},
   "outputs": [
    {
     "name": "stdout",
     "output_type": "stream",
     "text": [
      "Before\n",
      "Large number 41\n",
      "Large number 74\n",
      "After\n"
     ]
    }
   ],
   "source": [
    "#filtering in a loop\n",
    "\n",
    "print('Before')\n",
    "for value in [9, 41, 12, 3, 74, 15] :\n",
    "    if value > 20:\n",
    "        print('Large number',value)\n",
    "print('After')"
   ]
  },
  {
   "cell_type": "code",
   "execution_count": 15,
   "id": "dcfa4859",
   "metadata": {},
   "outputs": [
    {
     "name": "stdout",
     "output_type": "stream",
     "text": [
      "Before False\n",
      "False 9\n",
      "False 41\n",
      "False 12\n",
      "True 3\n",
      "True 74\n",
      "True 15\n",
      "After True\n"
     ]
    }
   ],
   "source": [
    "#search using a boolean variable\n",
    "\n",
    "found = False\n",
    "print('Before', found)\n",
    "for value in [9, 41, 12, 3, 74, 15] : \n",
    "    if value == 3 :\n",
    "        found = True\n",
    "    print(found, value)\n",
    "print('After', found)"
   ]
  },
  {
   "cell_type": "code",
   "execution_count": 17,
   "id": "1c000974",
   "metadata": {},
   "outputs": [
    {
     "name": "stdout",
     "output_type": "stream",
     "text": [
      "Before -1\n",
      "-1 9\n",
      "-1 41\n",
      "-1 12\n",
      "-1 3\n",
      "-1 74\n",
      "-1 15\n",
      "After -1\n"
     ]
    }
   ],
   "source": [
    "#finding the smallest value\n",
    "\n",
    "smallest_so_far = -1\n",
    "print('Before', smallest_so_far)\n",
    "for the_num in [9, 41, 12, 3, 74, 15] :\n",
    "    if the_num < smallest_so_far :\n",
    "        smallest_so_far = the_num\n",
    "    print(smallest_so_far, the_num)\n",
    "print('After', smallest_so_far)"
   ]
  },
  {
   "cell_type": "code",
   "execution_count": 18,
   "id": "63c72a3e",
   "metadata": {},
   "outputs": [
    {
     "name": "stdout",
     "output_type": "stream",
     "text": [
      "Before\n",
      "9 9\n",
      "9 41\n",
      "9 12\n",
      "3 3\n",
      "3 74\n",
      "3 15\n",
      "After 3\n"
     ]
    }
   ],
   "source": [
    "#finding the smallest value 2\n",
    "\n",
    "smallest = None\n",
    "print('Before')\n",
    "for value in [9, 41, 12, 3, 74, 15] :\n",
    "    if smallest is None : \n",
    "        smallest = value\n",
    "    elif value < smallest : \n",
    "        smallest = value\n",
    "    print(smallest, value)\n",
    "print('After', smallest)"
   ]
  },
  {
   "cell_type": "code",
   "execution_count": 19,
   "id": "ab8950e1",
   "metadata": {},
   "outputs": [
    {
     "name": "stdout",
     "output_type": "stream",
     "text": [
      "Before\n",
      "3 3\n",
      "3 41\n",
      "3 12\n",
      "3 9\n",
      "3 74\n",
      "3 15\n",
      "After 3\n"
     ]
    }
   ],
   "source": [
    "#the is and not is operator\n",
    "\n",
    "smallest = None\n",
    "print('Before')\n",
    "for value in [3, 41, 12, 9, 74, 15] :\n",
    "    if smallest is None : \n",
    "        smallest = value\n",
    "    elif value < smallest : \n",
    "        smallest = value\n",
    "    print(smallest, value)\n",
    "print('After', smallest)\n"
   ]
  }
 ],
 "metadata": {
  "kernelspec": {
   "display_name": "Python 3 (ipykernel)",
   "language": "python",
   "name": "python3"
  },
  "language_info": {
   "codemirror_mode": {
    "name": "ipython",
    "version": 3
   },
   "file_extension": ".py",
   "mimetype": "text/x-python",
   "name": "python",
   "nbconvert_exporter": "python",
   "pygments_lexer": "ipython3",
   "version": "3.11.4"
  }
 },
 "nbformat": 4,
 "nbformat_minor": 5
}
